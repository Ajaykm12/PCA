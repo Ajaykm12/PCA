{
 "cells": [
  {
   "cell_type": "code",
   "execution_count": 1,
   "metadata": {
    "collapsed": false
   },
   "outputs": [
    {
     "name": "stderr",
     "output_type": "stream",
     "text": [
      "C:\\Users\\majay\\AppData\\Local\\Continuum\\Anaconda3\\lib\\site-packages\\sklearn\\cross_validation.py:41: DeprecationWarning: This module was deprecated in version 0.18 in favor of the model_selection module into which all the refactored classes and functions are moved. Also note that the interface of the new CV iterators are different from that of this module. This module will be removed in 0.20.\n",
      "  \"This module will be removed in 0.20.\", DeprecationWarning)\n"
     ]
    }
   ],
   "source": [
    "#import all the required packages\n",
    "\n",
    "import time                                             # for time functions\n",
    "import random                                           # random state\n",
    "\n",
    "import numpy as np                                      # for mathematical manipulations\n",
    "import pandas as pd                                     # for dataframe related operations\n",
    "\n",
    "import matplotlib.pyplot as plt                         # visualisation\n",
    "import seaborn as sns                                   # visualisation\n",
    "plt.style.use('fivethirtyeight')                        # styling the plots\n",
    "\n",
    "from sklearn.cross_validation import train_test_split   # to split data into train and test sets\n",
    "from sklearn.preprocessing import StandardScaler        # standardize data\n",
    "from sklearn.decomposition import PCA                   # PCA\n",
    "from sklearn.ensemble import RandomForestClassifier     # Classification\n",
    "\n",
    "from sklearn.metrics import accuracy_score,recall_score,precision_score     #metrics\n",
    "from sklearn.metrics import classification_report                           #metrics report\n",
    "\n",
    "%matplotlib inline"
   ]
  },
  {
   "cell_type": "markdown",
   "metadata": {
    "collapsed": true
   },
   "source": [
    "### Dataset information\n",
    "[**SPECTF**](https://archive.ics.uci.edu/ml/machine-learning-databases/spect/) dataset from UCI machine learning repository\n",
    "\n",
    "   The dataset describes diagnosing of cardiac Single Proton Emission Computed Tomography (SPECT) images.\n",
    "   Each of the patients is classified into two categories: normal and abnormal.\n",
    "   The database of 267 SPECT image sets (patients) was processed to extract features that summarize the original SPECT images.\n",
    "   As a result, 44 continuous feature pattern was created for each patient."
   ]
  },
  {
   "cell_type": "code",
   "execution_count": 2,
   "metadata": {
    "collapsed": true
   },
   "outputs": [],
   "source": [
    "#data source url\n",
    "url = 'https://archive.ics.uci.edu/ml/machine-learning-databases/spect/SPECTF.test'\n",
    "\n",
    "#column names\n",
    "col_names = ['target', 'F1R', 'F1S', 'F2R', 'F2S', 'F3R', 'F3S', 'F4R', 'F4S', 'F5R','F5S','F6R','F6S','F7R','F7S','F8R','F8S','F9R','F9S','F10R',\n",
    "    'F10S',  'F11R','F11S','F12R','F12S','F13R','F13S','F14R','F14S','F15R','F15S','F16R','F16S','F17R','F17S','F18R','F18S','F19R','F19S',   'F20R',\n",
    "    'F20S','F21R','F21S','F22R','F22S']\n",
    "\n",
    "spectf= pd.read_table(url,sep=',',names=col_names)       # read with pandas"
   ]
  },
  {
   "cell_type": "code",
   "execution_count": 3,
   "metadata": {
    "collapsed": false,
    "scrolled": true
   },
   "outputs": [
    {
     "data": {
      "text/html": [
       "<div>\n",
       "<style>\n",
       "    .dataframe thead tr:only-child th {\n",
       "        text-align: right;\n",
       "    }\n",
       "\n",
       "    .dataframe thead th {\n",
       "        text-align: left;\n",
       "    }\n",
       "\n",
       "    .dataframe tbody tr th {\n",
       "        vertical-align: top;\n",
       "    }\n",
       "</style>\n",
       "<table border=\"1\" class=\"dataframe\">\n",
       "  <thead>\n",
       "    <tr style=\"text-align: right;\">\n",
       "      <th></th>\n",
       "      <th>target</th>\n",
       "      <th>F1R</th>\n",
       "      <th>F1S</th>\n",
       "      <th>F2R</th>\n",
       "      <th>F2S</th>\n",
       "      <th>F3R</th>\n",
       "      <th>F3S</th>\n",
       "      <th>F4R</th>\n",
       "      <th>F4S</th>\n",
       "      <th>F5R</th>\n",
       "      <th>...</th>\n",
       "      <th>F18R</th>\n",
       "      <th>F18S</th>\n",
       "      <th>F19R</th>\n",
       "      <th>F19S</th>\n",
       "      <th>F20R</th>\n",
       "      <th>F20S</th>\n",
       "      <th>F21R</th>\n",
       "      <th>F21S</th>\n",
       "      <th>F22R</th>\n",
       "      <th>F22S</th>\n",
       "    </tr>\n",
       "  </thead>\n",
       "  <tbody>\n",
       "    <tr>\n",
       "      <th>0</th>\n",
       "      <td>1</td>\n",
       "      <td>67</td>\n",
       "      <td>68</td>\n",
       "      <td>73</td>\n",
       "      <td>78</td>\n",
       "      <td>65</td>\n",
       "      <td>63</td>\n",
       "      <td>67</td>\n",
       "      <td>60</td>\n",
       "      <td>63</td>\n",
       "      <td>...</td>\n",
       "      <td>61</td>\n",
       "      <td>56</td>\n",
       "      <td>76</td>\n",
       "      <td>75</td>\n",
       "      <td>74</td>\n",
       "      <td>77</td>\n",
       "      <td>76</td>\n",
       "      <td>74</td>\n",
       "      <td>59</td>\n",
       "      <td>68</td>\n",
       "    </tr>\n",
       "    <tr>\n",
       "      <th>1</th>\n",
       "      <td>1</td>\n",
       "      <td>75</td>\n",
       "      <td>74</td>\n",
       "      <td>71</td>\n",
       "      <td>71</td>\n",
       "      <td>62</td>\n",
       "      <td>58</td>\n",
       "      <td>70</td>\n",
       "      <td>64</td>\n",
       "      <td>71</td>\n",
       "      <td>...</td>\n",
       "      <td>66</td>\n",
       "      <td>62</td>\n",
       "      <td>68</td>\n",
       "      <td>69</td>\n",
       "      <td>69</td>\n",
       "      <td>66</td>\n",
       "      <td>64</td>\n",
       "      <td>58</td>\n",
       "      <td>57</td>\n",
       "      <td>52</td>\n",
       "    </tr>\n",
       "    <tr>\n",
       "      <th>2</th>\n",
       "      <td>1</td>\n",
       "      <td>83</td>\n",
       "      <td>64</td>\n",
       "      <td>66</td>\n",
       "      <td>67</td>\n",
       "      <td>67</td>\n",
       "      <td>74</td>\n",
       "      <td>74</td>\n",
       "      <td>72</td>\n",
       "      <td>64</td>\n",
       "      <td>...</td>\n",
       "      <td>67</td>\n",
       "      <td>64</td>\n",
       "      <td>69</td>\n",
       "      <td>63</td>\n",
       "      <td>68</td>\n",
       "      <td>54</td>\n",
       "      <td>65</td>\n",
       "      <td>64</td>\n",
       "      <td>43</td>\n",
       "      <td>42</td>\n",
       "    </tr>\n",
       "    <tr>\n",
       "      <th>3</th>\n",
       "      <td>1</td>\n",
       "      <td>72</td>\n",
       "      <td>66</td>\n",
       "      <td>65</td>\n",
       "      <td>65</td>\n",
       "      <td>64</td>\n",
       "      <td>61</td>\n",
       "      <td>71</td>\n",
       "      <td>78</td>\n",
       "      <td>73</td>\n",
       "      <td>...</td>\n",
       "      <td>69</td>\n",
       "      <td>68</td>\n",
       "      <td>68</td>\n",
       "      <td>63</td>\n",
       "      <td>71</td>\n",
       "      <td>72</td>\n",
       "      <td>65</td>\n",
       "      <td>63</td>\n",
       "      <td>58</td>\n",
       "      <td>60</td>\n",
       "    </tr>\n",
       "    <tr>\n",
       "      <th>4</th>\n",
       "      <td>1</td>\n",
       "      <td>62</td>\n",
       "      <td>60</td>\n",
       "      <td>69</td>\n",
       "      <td>61</td>\n",
       "      <td>63</td>\n",
       "      <td>63</td>\n",
       "      <td>70</td>\n",
       "      <td>68</td>\n",
       "      <td>70</td>\n",
       "      <td>...</td>\n",
       "      <td>66</td>\n",
       "      <td>66</td>\n",
       "      <td>58</td>\n",
       "      <td>56</td>\n",
       "      <td>72</td>\n",
       "      <td>73</td>\n",
       "      <td>71</td>\n",
       "      <td>64</td>\n",
       "      <td>49</td>\n",
       "      <td>42</td>\n",
       "    </tr>\n",
       "  </tbody>\n",
       "</table>\n",
       "<p>5 rows × 45 columns</p>\n",
       "</div>"
      ],
      "text/plain": [
       "   target  F1R  F1S  F2R  F2S  F3R  F3S  F4R  F4S  F5R  ...   F18R  F18S  \\\n",
       "0       1   67   68   73   78   65   63   67   60   63  ...     61    56   \n",
       "1       1   75   74   71   71   62   58   70   64   71  ...     66    62   \n",
       "2       1   83   64   66   67   67   74   74   72   64  ...     67    64   \n",
       "3       1   72   66   65   65   64   61   71   78   73  ...     69    68   \n",
       "4       1   62   60   69   61   63   63   70   68   70  ...     66    66   \n",
       "\n",
       "   F19R  F19S  F20R  F20S  F21R  F21S  F22R  F22S  \n",
       "0    76    75    74    77    76    74    59    68  \n",
       "1    68    69    69    66    64    58    57    52  \n",
       "2    69    63    68    54    65    64    43    42  \n",
       "3    68    63    71    72    65    63    58    60  \n",
       "4    58    56    72    73    71    64    49    42  \n",
       "\n",
       "[5 rows x 45 columns]"
      ]
     },
     "execution_count": 3,
     "metadata": {},
     "output_type": "execute_result"
    }
   ],
   "source": [
    "spectf.head()                                    # check the head of the data"
   ]
  },
  {
   "cell_type": "code",
   "execution_count": 4,
   "metadata": {
    "collapsed": false
   },
   "outputs": [
    {
     "data": {
      "text/plain": [
       "(187, 45)"
      ]
     },
     "execution_count": 4,
     "metadata": {},
     "output_type": "execute_result"
    }
   ],
   "source": [
    "spectf.shape                                     # check the shape of the data"
   ]
  },
  {
   "cell_type": "markdown",
   "metadata": {},
   "source": [
    "the data set has 187 records and 45 variables"
   ]
  },
  {
   "cell_type": "code",
   "execution_count": 5,
   "metadata": {
    "collapsed": true
   },
   "outputs": [],
   "source": [
    "target=spectf['target']                          # store target column in a variable\n",
    "spectf.drop('target',axis=1,inplace=True)        # drop the column from the dataframe"
   ]
  },
  {
   "cell_type": "markdown",
   "metadata": {},
   "source": [
    "                            # split the data into train and test "
   ]
  },
  {
   "cell_type": "code",
   "execution_count": 6,
   "metadata": {
    "collapsed": true
   },
   "outputs": [],
   "source": [
    "X_train, X_test, y_train, y_test = train_test_split(spectf, target, random_state=123)"
   ]
  },
  {
   "cell_type": "markdown",
   "metadata": {},
   "source": [
    "                    # train RandomForest classifier before applying PCA and measure the performance"
   ]
  },
  {
   "cell_type": "code",
   "execution_count": 7,
   "metadata": {
    "collapsed": false
   },
   "outputs": [
    {
     "name": "stdout",
     "output_type": "stream",
     "text": [
      "Time taken to train the model 0.015034675598144531.\n"
     ]
    }
   ],
   "source": [
    "rfClassifier=RandomForestClassifier(max_depth = 5, random_state = 1,n_estimators=1,max_leaf_nodes=10,max_features=10)\n",
    "start=time.time()\n",
    "rfClassifier.fit(X_train,y_train)              #fit data\n",
    "end=time.time()\n",
    "training_time_before_pca =end - start\n",
    "print(\"Time taken to train the model {}.\".format(training_time_before_pca))"
   ]
  },
  {
   "cell_type": "code",
   "execution_count": 8,
   "metadata": {
    "collapsed": false
   },
   "outputs": [
    {
     "name": "stdout",
     "output_type": "stream",
     "text": [
      "             precision    recall  f1-score   support\n",
      "\n",
      "          0       0.82      0.56      0.67        16\n",
      "          1       0.95      0.98      0.96       124\n",
      "\n",
      "avg / total       0.93      0.94      0.93       140\n",
      "\n"
     ]
    }
   ],
   "source": [
    "y_train_pred = rfClassifier.predict(X_train)               # predict on train data\n",
    "\n",
    "#classification report of the train data\n",
    "print(classification_report(y_train_pred,y_train))"
   ]
  },
  {
   "cell_type": "code",
   "execution_count": 9,
   "metadata": {
    "collapsed": false
   },
   "outputs": [
    {
     "name": "stdout",
     "output_type": "stream",
     "text": [
      "             precision    recall  f1-score   support\n",
      "\n",
      "          0       0.25      0.25      0.25         4\n",
      "          1       0.93      0.93      0.93        43\n",
      "\n",
      "avg / total       0.87      0.87      0.87        47\n",
      "\n"
     ]
    }
   ],
   "source": [
    "y_test_pred =rfClassifier.predict(X_test)                  # predict on test data\n",
    "\n",
    "#classification report of the test data\n",
    "print(classification_report(y_test_pred,y_test))"
   ]
  },
  {
   "cell_type": "markdown",
   "metadata": {},
   "source": [
    "                # save all the metrics"
   ]
  },
  {
   "cell_type": "code",
   "execution_count": 10,
   "metadata": {
    "collapsed": true
   },
   "outputs": [],
   "source": [
    "#train metrics\n",
    "train_acc= accuracy_score(y_train_pred,y_train)            # train accuracy\n",
    "train_recall= recall_score(y_train_pred,y_train)           # train recall\n",
    "train_precision=precision_score(y_train_pred,y_train)      # train precision\n",
    "\n",
    "#test metrics\n",
    "test_acc= accuracy_score(y_test_pred,y_test)               # test accuracy\n",
    "test_recall= recall_score(y_test_pred,y_test)              # test recall\n",
    "test_precision=precision_score(y_test_pred,y_test)         # test precision"
   ]
  },
  {
   "cell_type": "markdown",
   "metadata": {},
   "source": [
    "### PCA\n",
    "Principal component analysis is a statistical procedure that uses an **orthogonal transformation** to convert a set of observations of possibly **correlated variables** into a set of values of **linearly uncorrelated variables** called principal components\n",
    "- With PCA we can reduce the dimentions with out losing much information\n",
    "- PCA also helps to remove the multicollinearity between the variables"
   ]
  },
  {
   "cell_type": "code",
   "execution_count": 11,
   "metadata": {
    "collapsed": true
   },
   "outputs": [],
   "source": [
    "# we have to standardize data before applying PCA\n",
    "scaler=StandardScaler()                                # initialize the standard scaler\n",
    "X_train_std = scaler.fit_transform(X_train)            # standardize the train data\n",
    "X_test_std= scaler.transform(X_test)                   # standardize the test data\n",
    "# apply PCA\n",
    "pca = PCA().fit(X_train_std)                           # fit X_std data to PCA"
   ]
  },
  {
   "cell_type": "code",
   "execution_count": 12,
   "metadata": {
    "collapsed": false
   },
   "outputs": [
    {
     "data": {
      "text/plain": [
       "<matplotlib.legend.Legend at 0x1868447a390>"
      ]
     },
     "execution_count": 12,
     "metadata": {},
     "output_type": "execute_result"
    },
    {
     "data": {
      "image/png": "[encoded data removed]",
      "text/plain": [
       "<matplotlib.figure.Figure at 0x18687db00f0>"
      ]
     },
     "metadata": {},
     "output_type": "display_data"
    }
   ],
   "source": [
    "# plot individual variance percentage explained by the principal components\n",
    "\n",
    "plt.bar(range(44), pca.explained_variance_ratio_, alpha=0.5,\n",
    "            label='individual explained variance')\n",
    "plt.ylabel('Explained variance ratio')\n",
    "plt.xlabel('Principal components')\n",
    "plt.legend(loc='best')"
   ]
  },
  {
   "cell_type": "code",
   "execution_count": 13,
   "metadata": {
    "collapsed": false
   },
   "outputs": [
    {
     "data": {
      "text/plain": [
       "<matplotlib.text.Annotation at 0x18688439710>"
      ]
     },
     "execution_count": 13,
     "metadata": {},
     "output_type": "execute_result"
    },
    {
     "data": {
      "image/png": "[encoded data removed]",
      "text/plain": [
       "<matplotlib.figure.Figure at 0x18687f6df98>"
      ]
     },
     "metadata": {},
     "output_type": "display_data"
    }
   ],
   "source": [
    "plt.plot(np.cumsum(pca.explained_variance_ratio_),\n",
    "        label='Cumilative variance explained')               \n",
    "plt.xlabel('Number of components')\n",
    "plt.ylabel('Cumulative explained variance')\n",
    "plt.annotate('15',xy=(15, .90))"
   ]
  },
  {
   "cell_type": "code",
   "execution_count": 14,
   "metadata": {
    "collapsed": false,
    "scrolled": false
   },
   "outputs": [
    {
     "data": {
      "text/plain": [
       "<matplotlib.text.Text at 0x186884d4320>"
      ]
     },
     "execution_count": 14,
     "metadata": {},
     "output_type": "execute_result"
    },
    {
     "data": {
      "image/png": "[encoded data removed]",
      "text/plain": [
       "<matplotlib.figure.Figure at 0x18688442898>"
      ]
     },
     "metadata": {},
     "output_type": "display_data"
    }
   ],
   "source": [
    "fig, (ax1, ax2) = plt.subplots(ncols=2,figsize=(12,5))                        # multiple plots \n",
    "sns.heatmap(X_train.corr(), ax=ax1)                                           # plot 1 correlation between variables\n",
    "sns.heatmap(pd.DataFrame(PCA().fit_transform(X_train_std)).corr(), ax=ax2)    # plot 2 correlation beteen principal components\n",
    "plt.title('correlation between principal components')                         "
   ]
  },
  {
   "cell_type": "markdown",
   "metadata": {},
   "source": [
    "### PCA\n",
    "consider first 15 principal components as they are explaining 90% of variation in the data  "
   ]
  },
  {
   "cell_type": "code",
   "execution_count": 15,
   "metadata": {
    "collapsed": true
   },
   "outputs": [],
   "source": [
    "#consider first 15 components as they are explaining the 90% of variation in the data\n",
    "x_pca = PCA(n_components=15)                            # initialise pca with 15 components\n",
    "X_train_std_pca = x_pca.fit_transform(X_train_std)      # fit and transform train data\n",
    "X_test_std_pca =x_pca.transform(X_test_std)             # transform test data"
   ]
  },
  {
   "cell_type": "code",
   "execution_count": 16,
   "metadata": {
    "collapsed": false
   },
   "outputs": [
    {
     "name": "stdout",
     "output_type": "stream",
     "text": [
      "Time taken to train the model with 15  components is 0.009010553359985352.\n"
     ]
    }
   ],
   "source": [
    "# train a RandomForest Classifier with train pca data\n",
    "rfClassifier=RandomForestClassifier(max_depth = 2, n_estimators = 1, random_state = 1,max_features=3,max_leaf_nodes=9)\n",
    "start=time.time()\n",
    "rfClassifier.fit(X_train_std_pca,y_train)\n",
    "end=time.time()\n",
    "training_time_after_pca =end - start\n",
    "print(\"Time taken to train the model with 15  components is {}.\".format(training_time_after_pca))"
   ]
  },
  {
   "cell_type": "code",
   "execution_count": 17,
   "metadata": {
    "collapsed": false
   },
   "outputs": [
    {
     "name": "stdout",
     "output_type": "stream",
     "text": [
      "             precision    recall  f1-score   support\n",
      "\n",
      "          0       0.64      0.30      0.41        23\n",
      "          1       0.88      0.97      0.92       117\n",
      "\n",
      "avg / total       0.84      0.86      0.84       140\n",
      "\n"
     ]
    }
   ],
   "source": [
    "y_train_pred_pca = rfClassifier.predict(X_train_std_pca)       # predict with train pca data\n",
    "\n",
    "#classification report of the pca train data\n",
    "print(classification_report(y_train_pred_pca,y_train))"
   ]
  },
  {
   "cell_type": "code",
   "execution_count": 18,
   "metadata": {
    "collapsed": false
   },
   "outputs": [
    {
     "name": "stdout",
     "output_type": "stream",
     "text": [
      "             precision    recall  f1-score   support\n",
      "\n",
      "          0       0.25      0.20      0.22         5\n",
      "          1       0.91      0.93      0.92        42\n",
      "\n",
      "avg / total       0.84      0.85      0.84        47\n",
      "\n"
     ]
    }
   ],
   "source": [
    "y_test_pred_pca =rfClassifier.predict(X_test_std_pca)          # predict with test pca data\n",
    "\n",
    "#classification report on pca applied test data\n",
    "print(classification_report(y_test_pred_pca,y_test))"
   ]
  },
  {
   "cell_type": "code",
   "execution_count": 19,
   "metadata": {
    "collapsed": true
   },
   "outputs": [],
   "source": [
    "# save all metrics\n",
    "train_acc_pca= accuracy_score(y_train_pred_pca,y_train)        # training accuracy\n",
    "train_recall_pca= recall_score(y_train_pred_pca,y_train)       # training recall\n",
    "train_precision_pca=precision_score(y_train_pred_pca,y_train)  # training precision\n",
    "\n",
    "test_acc_pca= accuracy_score(y_test_pred_pca,y_test)           # test accuracy\n",
    "test_recall_pca= recall_score(y_test_pred_pca,y_test)          # test recall\n",
    "test_precision_pca=precision_score(y_test_pred_pca,y_test)     # test precision"
   ]
  },
  {
   "cell_type": "code",
   "execution_count": 20,
   "metadata": {
    "collapsed": true
   },
   "outputs": [],
   "source": [
    "# store all metrics into lists\n",
    "train=[train_acc,train_recall,train_precision]\n",
    "test=[test_acc,test_recall,test_precision]\n",
    "train_pca=[train_acc_pca,train_recall_pca,train_precision_pca]\n",
    "test_pca=[test_acc_pca,test_recall_pca,test_precision_pca]"
   ]
  },
  {
   "cell_type": "code",
   "execution_count": 21,
   "metadata": {
    "collapsed": true
   },
   "outputs": [],
   "source": [
    "# make a dataframe of metrics \n",
    "metrics=pd.DataFrame([train,train_pca,test,test_pca],index=['train','train_pca','test','test_pca'])\n",
    "metrics.columns=['accuracy','recall','precision']"
   ]
  },
  {
   "cell_type": "code",
   "execution_count": 22,
   "metadata": {
    "collapsed": false
   },
   "outputs": [
    {
     "data": {
      "text/html": [
       "<div>\n",
       "<table border=\"1\" class=\"dataframe\">\n",
       "  <thead>\n",
       "    <tr style=\"text-align: right;\">\n",
       "      <th></th>\n",
       "      <th>train</th>\n",
       "      <th>train_pca</th>\n",
       "      <th>test</th>\n",
       "      <th>test_pca</th>\n",
       "    </tr>\n",
       "  </thead>\n",
       "  <tbody>\n",
       "    <tr>\n",
       "      <th>accuracy</th>\n",
       "      <td>0.935714</td>\n",
       "      <td>0.857143</td>\n",
       "      <td>0.872340</td>\n",
       "      <td>0.851064</td>\n",
       "    </tr>\n",
       "    <tr>\n",
       "      <th>recall</th>\n",
       "      <td>0.983871</td>\n",
       "      <td>0.965812</td>\n",
       "      <td>0.930233</td>\n",
       "      <td>0.928571</td>\n",
       "    </tr>\n",
       "    <tr>\n",
       "      <th>precision</th>\n",
       "      <td>0.945736</td>\n",
       "      <td>0.875969</td>\n",
       "      <td>0.930233</td>\n",
       "      <td>0.906977</td>\n",
       "    </tr>\n",
       "  </tbody>\n",
       "</table>\n",
       "</div>"
      ],
      "text/plain": [
       "              train  train_pca      test  test_pca\n",
       "accuracy   0.935714   0.857143  0.872340  0.851064\n",
       "recall     0.983871   0.965812  0.930233  0.928571\n",
       "precision  0.945736   0.875969  0.930233  0.906977"
      ]
     },
     "execution_count": 22,
     "metadata": {},
     "output_type": "execute_result"
    }
   ],
   "source": [
    "# compare error metrics for train and test data, before and after applying PCA\n",
    "metrics.T"
   ]
  }
 ],
 "metadata": {
  "anaconda-cloud": {},
  "kernelspec": {
   "display_name": "Python [conda root]",
   "language": "python",
   "name": "conda-root-py"
  },
  "language_info": {
   "codemirror_mode": {
    "name": "ipython",
    "version": 3
   },
   "file_extension": ".py",
   "mimetype": "text/x-python",
   "name": "python",
   "nbconvert_exporter": "python",
   "pygments_lexer": "ipython3",
   "version": "3.5.2"
  }
 },
 "nbformat": 4,
 "nbformat_minor": 1
}
